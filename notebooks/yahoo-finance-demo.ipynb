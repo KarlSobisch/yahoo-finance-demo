{
 "cells": [
  {
   "cell_type": "markdown",
   "metadata": {},
   "source": [
    "# Yahoo Finance Python API Demo"
   ]
  },
  {
   "cell_type": "markdown",
   "metadata": {},
   "source": [
    "## Import"
   ]
  },
  {
   "cell_type": "markdown",
   "metadata": {},
   "source": [
    "Docs can be found at https://pypi.org/project/yfinance/"
   ]
  },
  {
   "cell_type": "code",
   "execution_count": 14,
   "metadata": {},
   "outputs": [],
   "source": [
    "import yfinance as yf\n",
    "import requests"
   ]
  },
  {
   "cell_type": "markdown",
   "metadata": {},
   "source": [
    "## Using Ticker"
   ]
  },
  {
   "cell_type": "code",
   "execution_count": 3,
   "metadata": {},
   "outputs": [],
   "source": [
    "apple_ticker = yf.Ticker(\"AAPL\")"
   ]
  },
  {
   "cell_type": "markdown",
   "metadata": {},
   "source": [
    "### History"
   ]
  },
  {
   "cell_type": "code",
   "execution_count": 5,
   "metadata": {},
   "outputs": [],
   "source": [
    "hist = apple_ticker.history(period=\"max\")"
   ]
  },
  {
   "cell_type": "code",
   "execution_count": 6,
   "metadata": {},
   "outputs": [
    {
     "data": {
      "text/html": [
       "<div>\n",
       "<style scoped>\n",
       "    .dataframe tbody tr th:only-of-type {\n",
       "        vertical-align: middle;\n",
       "    }\n",
       "\n",
       "    .dataframe tbody tr th {\n",
       "        vertical-align: top;\n",
       "    }\n",
       "\n",
       "    .dataframe thead th {\n",
       "        text-align: right;\n",
       "    }\n",
       "</style>\n",
       "<table border=\"1\" class=\"dataframe\">\n",
       "  <thead>\n",
       "    <tr style=\"text-align: right;\">\n",
       "      <th></th>\n",
       "      <th>Open</th>\n",
       "      <th>High</th>\n",
       "      <th>Low</th>\n",
       "      <th>Close</th>\n",
       "      <th>Volume</th>\n",
       "      <th>Dividends</th>\n",
       "      <th>Stock Splits</th>\n",
       "    </tr>\n",
       "    <tr>\n",
       "      <th>Date</th>\n",
       "      <th></th>\n",
       "      <th></th>\n",
       "      <th></th>\n",
       "      <th></th>\n",
       "      <th></th>\n",
       "      <th></th>\n",
       "      <th></th>\n",
       "    </tr>\n",
       "  </thead>\n",
       "  <tbody>\n",
       "    <tr>\n",
       "      <th>1980-12-12</th>\n",
       "      <td>0.100922</td>\n",
       "      <td>0.101361</td>\n",
       "      <td>0.100922</td>\n",
       "      <td>0.100922</td>\n",
       "      <td>469033600</td>\n",
       "      <td>0.0</td>\n",
       "      <td>0.0</td>\n",
       "    </tr>\n",
       "    <tr>\n",
       "      <th>1980-12-15</th>\n",
       "      <td>0.096096</td>\n",
       "      <td>0.096096</td>\n",
       "      <td>0.095657</td>\n",
       "      <td>0.095657</td>\n",
       "      <td>175884800</td>\n",
       "      <td>0.0</td>\n",
       "      <td>0.0</td>\n",
       "    </tr>\n",
       "    <tr>\n",
       "      <th>1980-12-16</th>\n",
       "      <td>0.089075</td>\n",
       "      <td>0.089075</td>\n",
       "      <td>0.088636</td>\n",
       "      <td>0.088636</td>\n",
       "      <td>105728000</td>\n",
       "      <td>0.0</td>\n",
       "      <td>0.0</td>\n",
       "    </tr>\n",
       "    <tr>\n",
       "      <th>1980-12-17</th>\n",
       "      <td>0.090830</td>\n",
       "      <td>0.091268</td>\n",
       "      <td>0.090830</td>\n",
       "      <td>0.090830</td>\n",
       "      <td>86441600</td>\n",
       "      <td>0.0</td>\n",
       "      <td>0.0</td>\n",
       "    </tr>\n",
       "    <tr>\n",
       "      <th>1980-12-18</th>\n",
       "      <td>0.093463</td>\n",
       "      <td>0.093902</td>\n",
       "      <td>0.093463</td>\n",
       "      <td>0.093463</td>\n",
       "      <td>73449600</td>\n",
       "      <td>0.0</td>\n",
       "      <td>0.0</td>\n",
       "    </tr>\n",
       "    <tr>\n",
       "      <th>...</th>\n",
       "      <td>...</td>\n",
       "      <td>...</td>\n",
       "      <td>...</td>\n",
       "      <td>...</td>\n",
       "      <td>...</td>\n",
       "      <td>...</td>\n",
       "      <td>...</td>\n",
       "    </tr>\n",
       "    <tr>\n",
       "      <th>2021-04-21</th>\n",
       "      <td>132.360001</td>\n",
       "      <td>133.750000</td>\n",
       "      <td>131.300003</td>\n",
       "      <td>133.500000</td>\n",
       "      <td>68847100</td>\n",
       "      <td>0.0</td>\n",
       "      <td>0.0</td>\n",
       "    </tr>\n",
       "    <tr>\n",
       "      <th>2021-04-22</th>\n",
       "      <td>133.039993</td>\n",
       "      <td>134.149994</td>\n",
       "      <td>131.410004</td>\n",
       "      <td>131.940002</td>\n",
       "      <td>84566500</td>\n",
       "      <td>0.0</td>\n",
       "      <td>0.0</td>\n",
       "    </tr>\n",
       "    <tr>\n",
       "      <th>2021-04-23</th>\n",
       "      <td>132.160004</td>\n",
       "      <td>135.119995</td>\n",
       "      <td>132.160004</td>\n",
       "      <td>134.320007</td>\n",
       "      <td>78657500</td>\n",
       "      <td>0.0</td>\n",
       "      <td>0.0</td>\n",
       "    </tr>\n",
       "    <tr>\n",
       "      <th>2021-04-26</th>\n",
       "      <td>134.830002</td>\n",
       "      <td>135.059998</td>\n",
       "      <td>133.559998</td>\n",
       "      <td>134.720001</td>\n",
       "      <td>66905100</td>\n",
       "      <td>0.0</td>\n",
       "      <td>0.0</td>\n",
       "    </tr>\n",
       "    <tr>\n",
       "      <th>2021-04-27</th>\n",
       "      <td>135.009995</td>\n",
       "      <td>135.410004</td>\n",
       "      <td>134.110001</td>\n",
       "      <td>134.389999</td>\n",
       "      <td>65752700</td>\n",
       "      <td>0.0</td>\n",
       "      <td>0.0</td>\n",
       "    </tr>\n",
       "  </tbody>\n",
       "</table>\n",
       "<p>10178 rows × 7 columns</p>\n",
       "</div>"
      ],
      "text/plain": [
       "                  Open        High         Low       Close     Volume  \\\n",
       "Date                                                                    \n",
       "1980-12-12    0.100922    0.101361    0.100922    0.100922  469033600   \n",
       "1980-12-15    0.096096    0.096096    0.095657    0.095657  175884800   \n",
       "1980-12-16    0.089075    0.089075    0.088636    0.088636  105728000   \n",
       "1980-12-17    0.090830    0.091268    0.090830    0.090830   86441600   \n",
       "1980-12-18    0.093463    0.093902    0.093463    0.093463   73449600   \n",
       "...                ...         ...         ...         ...        ...   \n",
       "2021-04-21  132.360001  133.750000  131.300003  133.500000   68847100   \n",
       "2021-04-22  133.039993  134.149994  131.410004  131.940002   84566500   \n",
       "2021-04-23  132.160004  135.119995  132.160004  134.320007   78657500   \n",
       "2021-04-26  134.830002  135.059998  133.559998  134.720001   66905100   \n",
       "2021-04-27  135.009995  135.410004  134.110001  134.389999   65752700   \n",
       "\n",
       "            Dividends  Stock Splits  \n",
       "Date                                 \n",
       "1980-12-12        0.0           0.0  \n",
       "1980-12-15        0.0           0.0  \n",
       "1980-12-16        0.0           0.0  \n",
       "1980-12-17        0.0           0.0  \n",
       "1980-12-18        0.0           0.0  \n",
       "...               ...           ...  \n",
       "2021-04-21        0.0           0.0  \n",
       "2021-04-22        0.0           0.0  \n",
       "2021-04-23        0.0           0.0  \n",
       "2021-04-26        0.0           0.0  \n",
       "2021-04-27        0.0           0.0  \n",
       "\n",
       "[10178 rows x 7 columns]"
      ]
     },
     "execution_count": 6,
     "metadata": {},
     "output_type": "execute_result"
    }
   ],
   "source": [
    "hist"
   ]
  },
  {
   "cell_type": "code",
   "execution_count": 8,
   "metadata": {},
   "outputs": [
    {
     "data": {
      "text/plain": [
       "<matplotlib.axes._subplots.AxesSubplot at 0x7f7f88607c10>"
      ]
     },
     "execution_count": 8,
     "metadata": {},
     "output_type": "execute_result"
    },
    {
     "data": {
      "image/png": "[encoded data removed]",
      "text/plain": [
       "<Figure size 432x288 with 1 Axes>"
      ]
     },
     "metadata": {
      "needs_background": "light"
     },
     "output_type": "display_data"
    }
   ],
   "source": [
    "hist['Open'].plot()"
   ]
  },
  {
   "cell_type": "markdown",
   "metadata": {},
   "source": [
    "### Earnings"
   ]
  },
  {
   "cell_type": "code",
   "execution_count": 10,
   "metadata": {},
   "outputs": [
    {
     "data": {
      "text/html": [
       "<div>\n",
       "<style scoped>\n",
       "    .dataframe tbody tr th:only-of-type {\n",
       "        vertical-align: middle;\n",
       "    }\n",
       "\n",
       "    .dataframe tbody tr th {\n",
       "        vertical-align: top;\n",
       "    }\n",
       "\n",
       "    .dataframe thead th {\n",
       "        text-align: right;\n",
       "    }\n",
       "</style>\n",
       "<table border=\"1\" class=\"dataframe\">\n",
       "  <thead>\n",
       "    <tr style=\"text-align: right;\">\n",
       "      <th></th>\n",
       "      <th>Revenue</th>\n",
       "      <th>Earnings</th>\n",
       "    </tr>\n",
       "    <tr>\n",
       "      <th>Year</th>\n",
       "      <th></th>\n",
       "      <th></th>\n",
       "    </tr>\n",
       "  </thead>\n",
       "  <tbody>\n",
       "    <tr>\n",
       "      <th>2017</th>\n",
       "      <td>229234000000</td>\n",
       "      <td>48351000000</td>\n",
       "    </tr>\n",
       "    <tr>\n",
       "      <th>2018</th>\n",
       "      <td>265595000000</td>\n",
       "      <td>59531000000</td>\n",
       "    </tr>\n",
       "    <tr>\n",
       "      <th>2019</th>\n",
       "      <td>260174000000</td>\n",
       "      <td>55256000000</td>\n",
       "    </tr>\n",
       "    <tr>\n",
       "      <th>2020</th>\n",
       "      <td>274515000000</td>\n",
       "      <td>57411000000</td>\n",
       "    </tr>\n",
       "  </tbody>\n",
       "</table>\n",
       "</div>"
      ],
      "text/plain": [
       "           Revenue     Earnings\n",
       "Year                           \n",
       "2017  229234000000  48351000000\n",
       "2018  265595000000  59531000000\n",
       "2019  260174000000  55256000000\n",
       "2020  274515000000  57411000000"
      ]
     },
     "execution_count": 10,
     "metadata": {},
     "output_type": "execute_result"
    }
   ],
   "source": [
    "apple_ticker.earnings"
   ]
  },
  {
   "cell_type": "code",
   "execution_count": 32,
   "metadata": {},
   "outputs": [
    {
     "data": {
      "text/plain": [
       "<matplotlib.axes._subplots.AxesSubplot at 0x7f7f68e11110>"
      ]
     },
     "execution_count": 32,
     "metadata": {},
     "output_type": "execute_result"
    },
    {
     "data": {
      "image/png": "[encoded data removed]",
      "text/plain": [
       "<Figure size 432x288 with 1 Axes>"
      ]
     },
     "metadata": {
      "needs_background": "light"
     },
     "output_type": "display_data"
    }
   ],
   "source": [
    "apple_ticker.earnings.plot()"
   ]
  },
  {
   "cell_type": "markdown",
   "metadata": {},
   "source": [
    "## ISIN and Ticker"
   ]
  },
  {
   "cell_type": "markdown",
   "metadata": {},
   "source": [
    "#### Ticker --> ISIN:"
   ]
  },
  {
   "cell_type": "code",
   "execution_count": 16,
   "metadata": {},
   "outputs": [
    {
     "data": {
      "text/plain": [
       "'US0378331005'"
      ]
     },
     "execution_count": 16,
     "metadata": {},
     "output_type": "execute_result"
    }
   ],
   "source": [
    "apple_ticker.isin"
   ]
  },
  {
   "cell_type": "markdown",
   "metadata": {},
   "source": [
    "#### ISIN --> Ticker ???"
   ]
  },
  {
   "cell_type": "code",
   "execution_count": 27,
   "metadata": {},
   "outputs": [],
   "source": [
    "def isin_request(isin):\n",
    "    url = \"https://query2.finance.yahoo.com/v1/finance/search\"\n",
    "    params = {'q': isin, 'quotesCount': 1, 'newsCount': 0}\n",
    "    r = requests.get(url, params=params)\n",
    "    data = r.json()\n",
    "    if len(data['quotes']) != 0:\n",
    "        symbol = data['quotes'][0]['symbol']\n",
    "        ticker = yf.Ticker(symbol)\n",
    "        if ticker is not None:\n",
    "            output = {\n",
    "                'symbol': symbol,\n",
    "                'info': ticker.info\n",
    "            }\n",
    "    else:\n",
    "        output = {\n",
    "            'symbol': None,\n",
    "            'info': {}\n",
    "        }\n",
    "    return output"
   ]
  },
  {
   "cell_type": "code",
   "execution_count": 28,
   "metadata": {},
   "outputs": [],
   "source": [
    "query_response = isin_request('AU0000066086')"
   ]
  },
  {
   "cell_type": "code",
   "execution_count": 29,
   "metadata": {},
   "outputs": [
    {
     "data": {
      "text/plain": [
       "{'symbol': 'VUL.AX',\n",
       " 'info': {'zip': '6000',\n",
       "  'sector': 'Basic Materials',\n",
       "  'longBusinessSummary': 'Vulcan Energy Resources Limited engages in the mineral exploration activities in Europe. It explores for lithium, copper, zinc, gold, silver, lead, magnetite, and sulfur deposits. The company holds interests in the Zero Carbon Lithium project; and LÃ¸kken, Grimsdal, Storwartz, Killingdal, and Tverrfjellet projects located in Norway. In addition, it holds interests in the Vulcan Lithium project situated in the Upper Rhine Valley of Germany. The company was formerly known as Koppar Resources Limited and changed its name to Vulcan Energy Resources Limited in September 2019. Vulcan Energy Resources Limited was incorporated in 2018 and is based in Perth, Australia.',\n",
       "  'city': 'Perth',\n",
       "  'phone': '61 8 6189 8767',\n",
       "  'state': 'WA',\n",
       "  'country': 'Australia',\n",
       "  'companyOfficers': [],\n",
       "  'website': 'http://www.v-er.com',\n",
       "  'maxAge': 1,\n",
       "  'address1': 'Brookfield Place',\n",
       "  'industry': 'Other Industrial Metals & Mining',\n",
       "  'address2': 'Level 11 125 St Georges Terrace',\n",
       "  'previousClose': 8.24,\n",
       "  'regularMarketOpen': 8.24,\n",
       "  'twoHundredDayAverage': 4.6874127,\n",
       "  'trailingAnnualDividendYield': None,\n",
       "  'payoutRatio': 0,\n",
       "  'volume24Hr': None,\n",
       "  'regularMarketDayHigh': 8.28,\n",
       "  'navPrice': None,\n",
       "  'averageDailyVolume10Day': 966586,\n",
       "  'totalAssets': None,\n",
       "  'regularMarketPreviousClose': 8.24,\n",
       "  'fiftyDayAverage': 6.5213513,\n",
       "  'trailingAnnualDividendRate': None,\n",
       "  'open': 8.24,\n",
       "  'toCurrency': None,\n",
       "  'averageVolume10days': 966586,\n",
       "  'expireDate': None,\n",
       "  'yield': None,\n",
       "  'algorithm': None,\n",
       "  'dividendRate': None,\n",
       "  'exDividendDate': None,\n",
       "  'beta': 1.93,\n",
       "  'circulatingSupply': None,\n",
       "  'startDate': None,\n",
       "  'regularMarketDayLow': 7.74,\n",
       "  'priceHint': 2,\n",
       "  'currency': 'AUD',\n",
       "  'regularMarketVolume': 1106340,\n",
       "  'lastMarket': None,\n",
       "  'maxSupply': None,\n",
       "  'openInterest': None,\n",
       "  'marketCap': 846816320,\n",
       "  'volumeAllCurrencies': None,\n",
       "  'strikePrice': None,\n",
       "  'averageVolume': 1166675,\n",
       "  'priceToSalesTrailing12Months': 2468.291,\n",
       "  'dayLow': 7.74,\n",
       "  'ask': 7.9,\n",
       "  'ytdReturn': None,\n",
       "  'askSize': None,\n",
       "  'volume': 1106340,\n",
       "  'fiftyTwoWeekHigh': 14.2,\n",
       "  'forwardPE': None,\n",
       "  'fromCurrency': None,\n",
       "  'fiveYearAvgDividendYield': None,\n",
       "  'fiftyTwoWeekLow': 0.2,\n",
       "  'bid': 7.82,\n",
       "  'tradeable': False,\n",
       "  'dividendYield': None,\n",
       "  'bidSize': None,\n",
       "  'dayHigh': 8.28,\n",
       "  'exchange': 'ASX',\n",
       "  'shortName': 'VULCAN E FPO',\n",
       "  'longName': 'Vulcan Energy Resources Limited',\n",
       "  'exchangeTimezoneName': 'Australia/Sydney',\n",
       "  'exchangeTimezoneShortName': 'AEST',\n",
       "  'isEsgPopulated': False,\n",
       "  'gmtOffSetMilliseconds': '36000000',\n",
       "  'quoteType': 'EQUITY',\n",
       "  'symbol': 'VUL.AX',\n",
       "  'messageBoardId': 'finmb_559086202',\n",
       "  'market': 'au_market',\n",
       "  'annualHoldingsTurnover': None,\n",
       "  'enterpriseToRevenue': 1878.82,\n",
       "  'beta3Year': None,\n",
       "  'profitMargins': 0,\n",
       "  'enterpriseToEbitda': -89.021,\n",
       "  '52WeekChange': 36.52381,\n",
       "  'morningStarRiskRating': None,\n",
       "  'forwardEps': None,\n",
       "  'revenueQuarterlyGrowth': None,\n",
       "  'sharesOutstanding': 107464000,\n",
       "  'fundInceptionDate': None,\n",
       "  'annualReportExpenseRatio': None,\n",
       "  'bookValue': 0.154,\n",
       "  'sharesShort': None,\n",
       "  'sharesPercentSharesOut': None,\n",
       "  'fundFamily': None,\n",
       "  'lastFiscalYearEnd': 1593475200,\n",
       "  'heldPercentInstitutions': 0.02843,\n",
       "  'netIncomeToCommon': -7698080,\n",
       "  'trailingEps': -0.124,\n",
       "  'lastDividendValue': None,\n",
       "  'SandP52WeekChange': 0.42429185,\n",
       "  'priceToBook': 51.16883,\n",
       "  'heldPercentInsiders': 0.4277,\n",
       "  'nextFiscalYearEnd': 1656547200,\n",
       "  'mostRecentQuarter': 1609372800,\n",
       "  'shortRatio': None,\n",
       "  'sharesShortPreviousMonthDate': None,\n",
       "  'floatShares': 55626206,\n",
       "  'enterpriseValue': 644581696,\n",
       "  'threeYearAverageReturn': None,\n",
       "  'lastSplitDate': None,\n",
       "  'lastSplitFactor': None,\n",
       "  'legalType': None,\n",
       "  'lastDividendDate': None,\n",
       "  'morningStarOverallRating': None,\n",
       "  'earningsQuarterlyGrowth': None,\n",
       "  'dateShortInterest': None,\n",
       "  'pegRatio': None,\n",
       "  'lastCapGain': None,\n",
       "  'shortPercentOfFloat': None,\n",
       "  'sharesShortPriorMonth': None,\n",
       "  'impliedSharesOutstanding': 76424304,\n",
       "  'category': None,\n",
       "  'fiveYearAverageReturn': None,\n",
       "  'regularMarketPrice': 7.88,\n",
       "  'logo_url': 'https://logo.clearbit.com/v-er.com'}}"
      ]
     },
     "execution_count": 29,
     "metadata": {},
     "output_type": "execute_result"
    }
   ],
   "source": [
    "query_response"
   ]
  },
  {
   "cell_type": "code",
   "execution_count": 25,
   "metadata": {},
   "outputs": [],
   "source": [
    "isin_info = query_response['info']"
   ]
  },
  {
   "cell_type": "code",
   "execution_count": 35,
   "metadata": {},
   "outputs": [],
   "source": [
    "def isin_to_ticker_symbol(isin):\n",
    "    data = isin_request(isin)\n",
    "    if 'symbol' in data.keys():\n",
    "        return data['symbol']\n",
    "    else:\n",
    "        return None"
   ]
  },
  {
   "cell_type": "code",
   "execution_count": 36,
   "metadata": {},
   "outputs": [
    {
     "data": {
      "text/plain": [
       "'VUL.AX'"
      ]
     },
     "execution_count": 36,
     "metadata": {},
     "output_type": "execute_result"
    }
   ],
   "source": [
    "isin_to_ticker_symbol('AU0000066086')"
   ]
  },
  {
   "cell_type": "code",
   "execution_count": 33,
   "metadata": {},
   "outputs": [],
   "source": [
    "def isin_to_ticker(isin):\n",
    "    symbol = isin_to_ticker_symbol(isin)\n",
    "    if symbol is not None:\n",
    "        return yf.Ticker(symbol)\n",
    "    else:\n",
    "        return None"
   ]
  },
  {
   "cell_type": "code",
   "execution_count": 38,
   "metadata": {},
   "outputs": [],
   "source": [
    "ticker = isin_to_ticker('AU0000066086')"
   ]
  },
  {
   "cell_type": "code",
   "execution_count": 41,
   "metadata": {},
   "outputs": [
    {
     "data": {
      "text/plain": [
       "<matplotlib.axes._subplots.AxesSubplot at 0x7f7f68818410>"
      ]
     },
     "execution_count": 41,
     "metadata": {},
     "output_type": "execute_result"
    },
    {
     "data": {
      "image/png": "[encoded data removed]",
      "text/plain": [
       "<Figure size 432x288 with 1 Axes>"
      ]
     },
     "metadata": {
      "needs_background": "light"
     },
     "output_type": "display_data"
    }
   ],
   "source": [
    "ticker.history(period='max')['Open'].plot()"
   ]
  },
  {
   "cell_type": "markdown",
   "metadata": {},
   "source": [
    "## Handling n stocks"
   ]
  },
  {
   "cell_type": "code",
   "execution_count": null,
   "metadata": {},
   "outputs": [],
   "source": []
  },
  {
   "cell_type": "markdown",
   "metadata": {},
   "source": [
    "## Summary & final thoughts"
   ]
  },
  {
   "cell_type": "markdown",
   "metadata": {},
   "source": [
    "- yfinance is convenient but relies too much on actual API\n",
    "- Better use \"https://query2.finance.yahoo.com/v1/finance/...\" combined with requests for more flexibility\n",
    "- Need a better feeling of how reliable information is and how accessible (e.g. Apple earnings)"
   ]
  },
  {
   "cell_type": "code",
   "execution_count": null,
   "metadata": {},
   "outputs": [],
   "source": []
  }
 ],
 "metadata": {
  "kernelspec": {
   "display_name": "Python 3",
   "language": "python",
   "name": "python3"
  },
  "language_info": {
   "codemirror_mode": {
    "name": "ipython",
    "version": 3
   },
   "file_extension": ".py",
   "mimetype": "text/x-python",
   "name": "python",
   "nbconvert_exporter": "python",
   "pygments_lexer": "ipython3",
   "version": "3.7.10"
  }
 },
 "nbformat": 4,
 "nbformat_minor": 4
}
