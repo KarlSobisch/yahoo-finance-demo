{
 "cells": [
  {
   "cell_type": "markdown",
   "metadata": {},
   "source": [
    "# Yahoo Finance Python API Demo"
   ]
  },
  {
   "cell_type": "markdown",
   "metadata": {},
   "source": [
    "## Import"
   ]
  },
  {
   "cell_type": "markdown",
   "metadata": {},
   "source": [
    "Docs can be found at https://pypi.org/project/yfinance/"
   ]
  },
  {
   "cell_type": "code",
   "execution_count": null,
   "metadata": {},
   "outputs": [],
   "source": [
    "import yfinance as yf\n",
    "import requests\n",
    "import pandas as pd"
   ]
  },
  {
   "cell_type": "markdown",
   "metadata": {},
   "source": [
    "## Using Ticker"
   ]
  },
  {
   "cell_type": "code",
   "execution_count": null,
   "metadata": {},
   "outputs": [],
   "source": [
    "apple_ticker = yf.Ticker(\"AAPL\")"
   ]
  },
  {
   "cell_type": "markdown",
   "metadata": {},
   "source": [
    "### History"
   ]
  },
  {
   "cell_type": "code",
   "execution_count": null,
   "metadata": {},
   "outputs": [],
   "source": [
    "hist = apple_ticker.history(period=\"max\")"
   ]
  },
  {
   "cell_type": "code",
   "execution_count": null,
   "metadata": {},
   "outputs": [],
   "source": [
    "hist"
   ]
  },
  {
   "cell_type": "code",
   "execution_count": null,
   "metadata": {},
   "outputs": [],
   "source": [
    "hist['Open'].plot()"
   ]
  },
  {
   "cell_type": "markdown",
   "metadata": {},
   "source": [
    "### Earnings"
   ]
  },
  {
   "cell_type": "code",
   "execution_count": null,
   "metadata": {},
   "outputs": [],
   "source": [
    "apple_ticker.earnings"
   ]
  },
  {
   "cell_type": "code",
   "execution_count": null,
   "metadata": {},
   "outputs": [],
   "source": [
    "apple_ticker.earnings.plot()"
   ]
  },
  {
   "cell_type": "markdown",
   "metadata": {},
   "source": [
    "## ISIN and Ticker"
   ]
  },
  {
   "cell_type": "markdown",
   "metadata": {},
   "source": [
    "#### Ticker --> ISIN:"
   ]
  },
  {
   "cell_type": "code",
   "execution_count": null,
   "metadata": {},
   "outputs": [],
   "source": [
    "apple_ticker.isin"
   ]
  },
  {
   "cell_type": "markdown",
   "metadata": {},
   "source": [
    "#### ISIN --> Ticker ???"
   ]
  },
  {
   "cell_type": "code",
   "execution_count": null,
   "metadata": {},
   "outputs": [],
   "source": [
    "def isin_request(isin):\n",
    "    url = \"https://query2.finance.yahoo.com/v1/finance/search\"\n",
    "    params = {'q': isin, 'quotesCount': 1, 'newsCount': 0}\n",
    "    r = requests.get(url, params=params)\n",
    "    data = r.json()\n",
    "    if len(data['quotes']) != 0:\n",
    "        symbol = data['quotes'][0]['symbol']\n",
    "        ticker = yf.Ticker(symbol)\n",
    "        if ticker is not None:\n",
    "            output = {\n",
    "                'symbol': symbol,\n",
    "                'info': ticker.info\n",
    "            }\n",
    "    else:\n",
    "        output = {\n",
    "            'symbol': None,\n",
    "            'info': {}\n",
    "        }\n",
    "    return output"
   ]
  },
  {
   "cell_type": "code",
   "execution_count": null,
   "metadata": {},
   "outputs": [],
   "source": [
    "query_response = isin_request('AU0000066086')"
   ]
  },
  {
   "cell_type": "code",
   "execution_count": null,
   "metadata": {},
   "outputs": [],
   "source": [
    "query_response"
   ]
  },
  {
   "cell_type": "code",
   "execution_count": null,
   "metadata": {},
   "outputs": [],
   "source": [
    "isin_info = query_response['info']"
   ]
  },
  {
   "cell_type": "code",
   "execution_count": null,
   "metadata": {},
   "outputs": [],
   "source": [
    "def isin_to_ticker_symbol(isin):\n",
    "    data = isin_request(isin)\n",
    "    if 'symbol' in data.keys():\n",
    "        return data['symbol']\n",
    "    else:\n",
    "        return None"
   ]
  },
  {
   "cell_type": "code",
   "execution_count": null,
   "metadata": {},
   "outputs": [],
   "source": [
    "isin_to_ticker_symbol('AU0000066086')"
   ]
  },
  {
   "cell_type": "code",
   "execution_count": null,
   "metadata": {},
   "outputs": [],
   "source": [
    "def isin_to_ticker(isin):\n",
    "    symbol = isin_to_ticker_symbol(isin)\n",
    "    if symbol is not None:\n",
    "        return yf.Ticker(symbol)\n",
    "    else:\n",
    "        return None"
   ]
  },
  {
   "cell_type": "code",
   "execution_count": null,
   "metadata": {},
   "outputs": [],
   "source": [
    "ticker = isin_to_ticker('AU0000066086')"
   ]
  },
  {
   "cell_type": "code",
   "execution_count": null,
   "metadata": {},
   "outputs": [],
   "source": [
    "ticker.history(period='max')['Open'].plot()"
   ]
  },
  {
   "cell_type": "markdown",
   "metadata": {},
   "source": [
    "## Handling n stocks"
   ]
  },
  {
   "cell_type": "code",
   "execution_count": null,
   "metadata": {},
   "outputs": [],
   "source": [
    "def pretty_portfolio_description(isins):\n",
    "    output = {}\n",
    "    pretty_description = \"# Companies\\n\\n\"\n",
    "    for isin in isins:\n",
    "        ticker = isin_to_ticker(isin)\n",
    "        pretty_description += \"###\" + str(isin)\n",
    "        if ticker is not None:\n",
    "            info = ticker.info\n",
    "            if 'sector' in info.keys():\n",
    "                pretty_description += ' - Sector: ' + str(info['sector']) + \"\\n\"\n",
    "            else:\n",
    "                pretty_description += \"\\n\"\n",
    "            if 'longBusinessSummary' in info.keys():\n",
    "                description = info['longBusinessSummary']\n",
    "                as_lines = [description[i:i + 100] for i in range(0, len(description), 100)]\n",
    "                for line in as_lines:\n",
    "                    pretty_description += line + \"\\n\"\n",
    "        pretty_description += \"\\n\\n\"\n",
    "    return pretty_description"
   ]
  },
  {
   "cell_type": "code",
   "execution_count": null,
   "metadata": {},
   "outputs": [],
   "source": [
    "isins = ['AU0000066086', 'US08862E1091', 'US03783T1034'] # Arbitrarily large list of isins. Scrape ???"
   ]
  },
  {
   "cell_type": "code",
   "execution_count": null,
   "metadata": {},
   "outputs": [],
   "source": [
    "description = pretty_portfolio_description(isins)"
   ]
  },
  {
   "cell_type": "code",
   "execution_count": null,
   "metadata": {},
   "outputs": [],
   "source": [
    "description"
   ]
  },
  {
   "cell_type": "code",
   "execution_count": null,
   "metadata": {},
   "outputs": [],
   "source": [
    "with open('../results/portfolio_description.md', 'w') as f:\n",
    "    f.write(description)"
   ]
  },
  {
   "cell_type": "markdown",
   "metadata": {},
   "source": [
    "## Summary & final thoughts"
   ]
  },
  {
   "cell_type": "markdown",
   "metadata": {},
   "source": [
    "- yfinance is convenient but relies too much on actual API\n",
    "- Better use \"https://query2.finance.yahoo.com/v1/finance/...\" combined with requests for more flexibility\n",
    "- Need a better feeling of how reliable information is and how accessible (e.g. Apple earnings)\n",
    "- Want to scrape as many long descriptions as possible to get a macro-overview using clusterig, NLP, ..."
   ]
  }
 ],
 "metadata": {
  "kernelspec": {
   "display_name": "Python 3",
   "language": "python",
   "name": "python3"
  },
  "language_info": {
   "codemirror_mode": {
    "name": "ipython",
    "version": 3
   },
   "file_extension": ".py",
   "mimetype": "text/x-python",
   "name": "python",
   "nbconvert_exporter": "python",
   "pygments_lexer": "ipython3",
   "version": "3.7.10"
  }
 },
 "nbformat": 4,
 "nbformat_minor": 4
}
